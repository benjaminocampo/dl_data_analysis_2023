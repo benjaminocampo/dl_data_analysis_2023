{
 "cells": [
  {
   "cell_type": "markdown",
   "metadata": {},
   "source": [
    "# Exam: Analyse et manipulation de données \n",
    "\n",
    "We are going to work on a modified version of the Melbourne dataset."
   ]
  },
  {
   "cell_type": "code",
   "execution_count": 12,
   "metadata": {},
   "outputs": [],
   "source": [
    "import pandas as pd\n",
    "\n",
    "URL_MELB_HOUSING_DATA = \"./melb_housing_df.csv\"\n",
    "URL_MELB_SUBURB_DATA = \"./melb_suburb_df.csv\"\n",
    "\n",
    "melb_housing_df = pd.read_csv(URL_MELB_HOUSING_DATA)\n",
    "melb_suburb_df = pd.read_csv(URL_MELB_SUBURB_DATA)"
   ]
  },
  {
   "cell_type": "markdown",
   "metadata": {},
   "source": [
    "Note that `melb_housing_df` and `melb_suburb_df` are two related dataframes.\n",
    "`melb_housing_df` contains instances of property sales whereas `melb_suburb_df`\n",
    "contains suburb information. \n",
    "\n",
    "Note also that a property in `melb_housing_df` belongs to a certain suburb in\n",
    "`melb_suburb_df`. This information is linked through the column `suburb_id`."
   ]
  },
  {
   "cell_type": "markdown",
   "metadata": {},
   "source": [
    "## Exercises\n",
    "\n",
    "**1)**: Using the columns `housing_type` (in `melb_housing_df`) and\n",
    "`suburb_rental_dailyprice` (in `melb_suburb_df`), calculate the average and\n",
    "standard deviation rental daily price per housing type.\n",
    "\n",
    "**2)**: If we look at the column `suburb_region_name` (in `melb_suburb_df`), we can see that the\n",
    "number of instances `Easter Victoria`, `Northern Victoria`, and `Western\n",
    "Victoria` are not significant enough. Group these three categories into only one\n",
    "called `Victoria`. Create a new column called `suburb_region_name_grouped`,\n",
    "saving these changes.\n",
    "\n",
    "**3)** Use a KBinsDiscretizer to encode the column `housing_room_count` with 4\n",
    "beans. Create a new column on the dataframe `melb_housing_df` called\n",
    "`housing_room_count_seg`, saving these changes.\n",
    "\n",
    "**4)** Apply OneHotEncoding to the columns `suburb_region_name_gruped`, `housing_type` and\n",
    "`suburb_region_name`.\n",
    "\n",
    "**5)** Use PCA to encode the result of **4)** and the random variables\n",
    "`housing_room_count_seg`, `housing_cbd_distance` and `housing_bedroom_count`.\n",
    "Determine the number of PCA components that explain at least 90% of the\n",
    "variance."
   ]
  },
  {
   "cell_type": "markdown",
   "metadata": {},
   "source": []
  }
 ],
 "metadata": {
  "interpreter": {
   "hash": "4f124edc0ade743c85690c7324df6e37a551635b56947f2d8b25addb0dfe1a8f"
  },
  "kernelspec": {
   "display_name": "Python 3.10.8 ('sald')",
   "language": "python",
   "name": "python3"
  },
  "language_info": {
   "codemirror_mode": {
    "name": "ipython",
    "version": 3
   },
   "file_extension": ".py",
   "mimetype": "text/x-python",
   "name": "python",
   "nbconvert_exporter": "python",
   "pygments_lexer": "ipython3",
   "version": "3.10.8"
  },
  "orig_nbformat": 4
 },
 "nbformat": 4,
 "nbformat_minor": 2
}
